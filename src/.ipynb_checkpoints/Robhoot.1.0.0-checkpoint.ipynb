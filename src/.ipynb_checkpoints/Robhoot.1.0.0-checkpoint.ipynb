{
 "cells": [
  {
   "cell_type": "code",
   "execution_count": 2,
   "id": "23bc81c7",
   "metadata": {},
   "outputs": [],
   "source": [
    "#julia Robhoot.1.0.0\n",
    "using DataFrames\n",
    "using CSV\n",
    "using Query\n",
    "using JDF"
   ]
  },
  {
   "cell_type": "code",
   "execution_count": 3,
   "id": "968dfcaf",
   "metadata": {},
   "outputs": [
    {
     "ename": "LoadError",
     "evalue": "syntax: incomplete: \"function\" at In[3]:1 requires end",
     "output_type": "error",
     "traceback": [
      "syntax: incomplete: \"function\" at In[3]:1 requires end",
      "",
      "Stacktrace:",
      " [1] top-level scope",
      "   @ In[3]:1"
     ]
    }
   ],
   "source": [
    "function merge_haul_length(haul_file= \"HLd_first10000.csv\", length_file=\"HLd.csv\", lengths_file_small = \"HLd_first10000.csv\")\n",
    "  classes = [\"Myxini\", \"Petromyzonti\", \"Elasmobranchii\", \"Holocephali\", \"Actinopterygii\"]\n",
    "  surveys = [\"BITS\", \"NS-IBTS\", \"SP-PORC\", \"SCOWCGFS\", \"ROCKALL\", \"SCOROC\", \"DWS\", \"IE-IGFS\", \"IE-IAMS\", \"NIGFS\", \"SP-NORTH\", \"FR-CGFS\", \"EVHOE\", \"SP-ARSA\", \"PT-IBTS\", \"SNS\"]\n",
    "  ranks = [\"Species\", \"Subspecies\"]\n",
    "  common_names = [\"Survey\", \"Year\", \"Quarter\", \"Country\", \"Gear\", \"HaulNo\"]\n",
    "  haul = CSV.read(haul_file, DataFrame);\n",
    "  lengths_small = CSV.read(lengths_file_small, DataFrame);"
   ]
  },
  {
   "cell_type": "code",
   "execution_count": null,
   "id": "c50ca19d",
   "metadata": {},
   "outputs": [],
   "source": []
  }
 ],
 "metadata": {
  "kernelspec": {
   "display_name": "Julia (4 threads) 1.7.1",
   "language": "julia",
   "name": "julia-(4-threads)-1.7"
  },
  "language_info": {
   "file_extension": ".jl",
   "mimetype": "application/julia",
   "name": "julia",
   "version": "1.7.1"
  }
 },
 "nbformat": 4,
 "nbformat_minor": 5
}
